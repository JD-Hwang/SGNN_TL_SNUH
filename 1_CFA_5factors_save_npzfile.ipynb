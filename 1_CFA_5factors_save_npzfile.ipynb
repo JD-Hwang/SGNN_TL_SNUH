{
 "cells": [
  {
   "cell_type": "code",
   "execution_count": 1,
   "id": "de8951e0",
   "metadata": {},
   "outputs": [],
   "source": [
    "import os\n",
    "import numpy as np\n",
    "import pandas as pd\n",
    "import matplotlib.pyplot as plt\n",
    "import seaborn as sns\n",
    "import matplotlib.image as mpimg"
   ]
  },
  {
   "cell_type": "code",
   "execution_count": 2,
   "id": "967ba39d",
   "metadata": {},
   "outputs": [],
   "source": [
    "abcd_mri = pd.read_csv(\"/data5/open_data/ABCD/ABCDstudyDEAP/abcd_mri01.txt\",sep='\\t')\n",
    "abcd_mri.set_index(\"subjectkey\",drop=True,inplace=True)"
   ]
  },
  {
   "cell_type": "code",
   "execution_count": 3,
   "id": "8bc8a060",
   "metadata": {},
   "outputs": [
    {
     "data": {
      "text/plain": [
       "SIEMENS                        7280\n",
       "GE MEDICAL SYSTEMS             2962\n",
       "Philips Medical Systems        1513\n",
       "Imaging device manufacturer       1\n",
       "Name: mri_info_manufacturer, dtype: int64"
      ]
     },
     "execution_count": 3,
     "metadata": {},
     "output_type": "execute_result"
    }
   ],
   "source": [
    "abcd_mri['mri_info_manufacturer'].value_counts()"
   ]
  },
  {
   "cell_type": "code",
   "execution_count": 4,
   "id": "93571e83",
   "metadata": {},
   "outputs": [
    {
     "data": {
      "text/html": [
       "<div>\n",
       "<style scoped>\n",
       "    .dataframe tbody tr th:only-of-type {\n",
       "        vertical-align: middle;\n",
       "    }\n",
       "\n",
       "    .dataframe tbody tr th {\n",
       "        vertical-align: top;\n",
       "    }\n",
       "\n",
       "    .dataframe thead th {\n",
       "        text-align: right;\n",
       "    }\n",
       "</style>\n",
       "<table border=\"1\" class=\"dataframe\">\n",
       "  <thead>\n",
       "    <tr style=\"text-align: right;\">\n",
       "      <th></th>\n",
       "      <th>ext</th>\n",
       "      <th>int</th>\n",
       "      <th>neu</th>\n",
       "      <th>som</th>\n",
       "      <th>det</th>\n",
       "      <th>p</th>\n",
       "    </tr>\n",
       "    <tr>\n",
       "      <th>subjectkey</th>\n",
       "      <th></th>\n",
       "      <th></th>\n",
       "      <th></th>\n",
       "      <th></th>\n",
       "      <th></th>\n",
       "      <th></th>\n",
       "    </tr>\n",
       "  </thead>\n",
       "  <tbody>\n",
       "    <tr>\n",
       "      <th>NDAR_INV003RTV85</th>\n",
       "      <td>-0.682</td>\n",
       "      <td>-0.537</td>\n",
       "      <td>-0.424</td>\n",
       "      <td>-0.522</td>\n",
       "      <td>0.076</td>\n",
       "      <td>-0.403</td>\n",
       "    </tr>\n",
       "    <tr>\n",
       "      <th>NDAR_INV005V6D2C</th>\n",
       "      <td>-0.872</td>\n",
       "      <td>-0.537</td>\n",
       "      <td>-0.830</td>\n",
       "      <td>-0.675</td>\n",
       "      <td>-0.738</td>\n",
       "      <td>-0.695</td>\n",
       "    </tr>\n",
       "    <tr>\n",
       "      <th>NDAR_INV007W6H7B</th>\n",
       "      <td>0.023</td>\n",
       "      <td>0.575</td>\n",
       "      <td>0.506</td>\n",
       "      <td>1.166</td>\n",
       "      <td>0.550</td>\n",
       "      <td>0.432</td>\n",
       "    </tr>\n",
       "    <tr>\n",
       "      <th>NDAR_INV00BD7VDC</th>\n",
       "      <td>0.133</td>\n",
       "      <td>0.443</td>\n",
       "      <td>0.458</td>\n",
       "      <td>-0.212</td>\n",
       "      <td>0.061</td>\n",
       "      <td>0.264</td>\n",
       "    </tr>\n",
       "    <tr>\n",
       "      <th>NDAR_INV00J52GPG</th>\n",
       "      <td>-0.028</td>\n",
       "      <td>-0.316</td>\n",
       "      <td>0.118</td>\n",
       "      <td>-0.361</td>\n",
       "      <td>-0.198</td>\n",
       "      <td>-0.070</td>\n",
       "    </tr>\n",
       "    <tr>\n",
       "      <th>...</th>\n",
       "      <td>...</td>\n",
       "      <td>...</td>\n",
       "      <td>...</td>\n",
       "      <td>...</td>\n",
       "      <td>...</td>\n",
       "      <td>...</td>\n",
       "    </tr>\n",
       "    <tr>\n",
       "      <th>C53</th>\n",
       "      <td>-0.777</td>\n",
       "      <td>-0.647</td>\n",
       "      <td>-0.482</td>\n",
       "      <td>-0.600</td>\n",
       "      <td>-0.610</td>\n",
       "      <td>-0.554</td>\n",
       "    </tr>\n",
       "    <tr>\n",
       "      <th>C54</th>\n",
       "      <td>0.634</td>\n",
       "      <td>0.130</td>\n",
       "      <td>0.167</td>\n",
       "      <td>-0.244</td>\n",
       "      <td>0.006</td>\n",
       "      <td>0.190</td>\n",
       "    </tr>\n",
       "    <tr>\n",
       "      <th>C55</th>\n",
       "      <td>-0.416</td>\n",
       "      <td>-0.339</td>\n",
       "      <td>-0.571</td>\n",
       "      <td>-0.514</td>\n",
       "      <td>-0.082</td>\n",
       "      <td>-0.387</td>\n",
       "    </tr>\n",
       "    <tr>\n",
       "      <th>C56</th>\n",
       "      <td>-0.620</td>\n",
       "      <td>0.154</td>\n",
       "      <td>-0.503</td>\n",
       "      <td>-0.471</td>\n",
       "      <td>-0.020</td>\n",
       "      <td>-0.299</td>\n",
       "    </tr>\n",
       "    <tr>\n",
       "      <th>C57</th>\n",
       "      <td>-0.002</td>\n",
       "      <td>-0.048</td>\n",
       "      <td>0.160</td>\n",
       "      <td>-0.295</td>\n",
       "      <td>0.359</td>\n",
       "      <td>0.075</td>\n",
       "    </tr>\n",
       "  </tbody>\n",
       "</table>\n",
       "<p>10134 rows × 6 columns</p>\n",
       "</div>"
      ],
      "text/plain": [
       "                    ext    int    neu    som    det      p\n",
       "subjectkey                                                \n",
       "NDAR_INV003RTV85 -0.682 -0.537 -0.424 -0.522  0.076 -0.403\n",
       "NDAR_INV005V6D2C -0.872 -0.537 -0.830 -0.675 -0.738 -0.695\n",
       "NDAR_INV007W6H7B  0.023  0.575  0.506  1.166  0.550  0.432\n",
       "NDAR_INV00BD7VDC  0.133  0.443  0.458 -0.212  0.061  0.264\n",
       "NDAR_INV00J52GPG -0.028 -0.316  0.118 -0.361 -0.198 -0.070\n",
       "...                 ...    ...    ...    ...    ...    ...\n",
       "C53              -0.777 -0.647 -0.482 -0.600 -0.610 -0.554\n",
       "C54               0.634  0.130  0.167 -0.244  0.006  0.190\n",
       "C55              -0.416 -0.339 -0.571 -0.514 -0.082 -0.387\n",
       "C56              -0.620  0.154 -0.503 -0.471 -0.020 -0.299\n",
       "C57              -0.002 -0.048  0.160 -0.295  0.359  0.075\n",
       "\n",
       "[10134 rows x 6 columns]"
      ]
     },
     "execution_count": 4,
     "metadata": {},
     "output_type": "execute_result"
    }
   ],
   "source": [
    "#Factor scores\n",
    "fs_df = pd.read_csv(\"/data4/SNU/data/ABCD_SNUH_CFA_p.csv\",sep='\\t')\n",
    "fs_df.set_index(\"subjectkey\",drop=True,inplace=True)\n",
    "\n",
    "fs_df"
   ]
  },
  {
   "cell_type": "code",
   "execution_count": 5,
   "id": "c8714323",
   "metadata": {},
   "outputs": [
    {
     "name": "stdout",
     "output_type": "stream",
     "text": [
      "(6905,) (6905,)\n"
     ]
    }
   ],
   "source": [
    "#ABCD\n",
    "data_path = \"/users/hjw/data/ABCD/npz_files/rsfc_p_site_scanner_si_ge.npz\"\n",
    "abcd_p = np.load(data_path, allow_pickle=True)[\"y\"][:,0]\n",
    "abcd_sbj = np.load(\"/users/hjw/data/ABCD/npz_files/sbj_keys.npz\",allow_pickle=True)['X']\n",
    "\n",
    "abcd_sbj_list = [\"NDAR_\"+i for i in abcd_sbj]\n",
    "\n",
    "print(abcd_p.shape, abcd_sbj.shape)"
   ]
  },
  {
   "cell_type": "code",
   "execution_count": 192,
   "id": "e5660ce1",
   "metadata": {},
   "outputs": [],
   "source": [
    "#ABCD- scanner info\n",
    "for i in abcd_sbj_list:\n",
    "    fs_df.loc[i,'scanner'] = 1 if \"SIEMENS\" in abcd_mri.loc[i,'mri_info_manufacturer'] else 0\n",
    "#SNUH- mdd/control info\n",
    "for i in snuh_sbj_list:\n",
    "    fs_df.loc[i,'scanner'] = 1 if 'P' in i else 0"
   ]
  },
  {
   "cell_type": "code",
   "execution_count": 7,
   "id": "c2209d2f",
   "metadata": {},
   "outputs": [],
   "source": [
    "#SNUH\n",
    "snuh = pd.read_csv(\"/data4/SNU/data/demo_for_rsfc_df.csv\", index_col=0)\n",
    "snuh_sbj = snuh['new_id'].tolist()\n",
    "snuh_sbj_list = [i[0]+str(int(i[1:])) for i in snuh_sbj]"
   ]
  },
  {
   "cell_type": "code",
   "execution_count": 8,
   "id": "3aee2cb3",
   "metadata": {},
   "outputs": [],
   "source": [
    "#ABCD\n",
    "abcd_p = fs_df.loc[abcd_sbj_list,'p'].values\n",
    "abcd_ext = fs_df.loc[abcd_sbj_list,'ext'].values\n",
    "abcd_int = fs_df.loc[abcd_sbj_list,'int'].values\n",
    "abcd_neu = fs_df.loc[abcd_sbj_list,'neu'].values\n",
    "abcd_som = fs_df.loc[abcd_sbj_list,'som'].values\n",
    "abcd_det = fs_df.loc[abcd_sbj_list,'det'].values\n",
    "abcd_scanner = fs_df.loc[abcd_sbj_list,'scanner'].values"
   ]
  },
  {
   "cell_type": "code",
   "execution_count": 211,
   "id": "18ed7c1b",
   "metadata": {},
   "outputs": [],
   "source": [
    "abcd_melt = fs_df.loc[abcd_sbj_list,:].melt(id_vars=['scanner'])\n",
    "snuh_melt = fs_df.loc[snuh_sbj_list,:].melt(id_vars=['scanner'])\n",
    "abcd_melt['data']='ABCD'\n",
    "# snuh_melt['data']='SNUH'\n",
    "\n",
    "for i in range(len(snuh_melt)):\n",
    "    if snuh_melt.loc[i,'scanner']==0:\n",
    "        snuh_melt.loc[i,'data'] = \"SNUH_HC\"\n",
    "    else:\n",
    "        snuh_melt.loc[i,'data'] = \"SNUH_MDD\"\n",
    "fs_df_melt = pd.concat([abcd_melt,snuh_melt])"
   ]
  },
  {
   "cell_type": "code",
   "execution_count": 206,
   "id": "576a5ed8",
   "metadata": {},
   "outputs": [],
   "source": [
    "for i in range(len(snuh_melt)):\n",
    "    if snuh_melt.loc[i,'scanner']==0:\n",
    "        snuh_melt.loc[i,'data'] = \"SNUH_HC\"\n",
    "    else:\n",
    "        snuh_melt.loc[i,'data'] = \"SNUH_MDD\""
   ]
  },
  {
   "cell_type": "code",
   "execution_count": 212,
   "id": "c92d2b6b",
   "metadata": {},
   "outputs": [
    {
     "data": {
      "image/png": "[encoded data removed]",
      "text/plain": [
       "<Figure size 720x504 with 1 Axes>"
      ]
     },
     "metadata": {},
     "output_type": "display_data"
    }
   ],
   "source": [
    "sns.set(style='darkgrid',palette='Set3')\n",
    "plt.figure(figsize=(10,7))\n",
    "sns.boxplot(x='variable',y='value',data=fs_df_melt,hue='data')\n",
    "plt.show()\n",
    "# sns.violinplot(x='variable',y='value',data=fs_df_melt,hue='data',split=True)"
   ]
  },
  {
   "cell_type": "code",
   "execution_count": 9,
   "id": "abc86961",
   "metadata": {},
   "outputs": [
    {
     "data": {
      "text/plain": [
       "(array([0., 1.]), array([1830, 5075]))"
      ]
     },
     "execution_count": 9,
     "metadata": {},
     "output_type": "execute_result"
    }
   ],
   "source": [
    "np.unique(abcd_scanner,return_counts=True)"
   ]
  },
  {
   "cell_type": "code",
   "execution_count": 32,
   "id": "cb3803f8",
   "metadata": {},
   "outputs": [],
   "source": [
    "snuh_p = fs_df.loc[snuh_sbj_list,'p'].values\n",
    "snuh_ext = fs_df.loc[snuh_sbj_list,'ext'].values\n",
    "snuh_int = fs_df.loc[snuh_sbj_list,'int'].values\n",
    "snuh_neu = fs_df.loc[snuh_sbj_list,'neu'].values\n",
    "snuh_som = fs_df.loc[snuh_sbj_list,'som'].values\n",
    "snuh_det = fs_df.loc[snuh_sbj_list,'det'].values"
   ]
  },
  {
   "cell_type": "code",
   "execution_count": 11,
   "id": "c6e4dee5",
   "metadata": {},
   "outputs": [],
   "source": [
    "np.savez(\"/data4/SNU/data/ABCD_CFA_5factor.npz\",p=abcd_p,ext=abcd_ext,int=abcd_int,neu = abcd_neu, som = abcd_som, det= abcd_det,scn=abcd_scanner)"
   ]
  },
  {
   "cell_type": "code",
   "execution_count": 12,
   "id": "19971b04",
   "metadata": {},
   "outputs": [],
   "source": [
    "np.savez(\"/data4/SNU/data/SNUH_CFA_5factor.npz\",p=snuh_p,ext=snuh_ext,int=snuh_int,neu = snuh_neu, som = snuh_som, det= snuh_det)"
   ]
  },
  {
   "cell_type": "code",
   "execution_count": 38,
   "id": "51c9864f",
   "metadata": {},
   "outputs": [
    {
     "name": "stdout",
     "output_type": "stream",
     "text": [
      "p\n",
      "ext\n",
      "int\n",
      "neu\n",
      "som\n",
      "det\n",
      "scn\n"
     ]
    }
   ],
   "source": [
    "a = np.load(\"/data4/SNU/data/ABCD_CFA_5factor.npz\",allow_pickle=True)\n",
    "for i in a:\n",
    "    print(i)"
   ]
  },
  {
   "cell_type": "markdown",
   "id": "d45091db",
   "metadata": {},
   "source": [
    "## regressing out"
   ]
  },
  {
   "cell_type": "code",
   "execution_count": 71,
   "id": "240a150b",
   "metadata": {},
   "outputs": [],
   "source": [
    "from sklearn import linear_model"
   ]
  },
  {
   "cell_type": "code",
   "execution_count": 76,
   "id": "eb666669",
   "metadata": {},
   "outputs": [
    {
     "data": {
      "text/plain": [
       "array([-0.403,  0.264, -0.183, ...,  0.214,  1.042,  0.206])"
      ]
     },
     "execution_count": 76,
     "metadata": {},
     "output_type": "execute_result"
    }
   ],
   "source": [
    "x.reshape(-1,1)"
   ]
  },
  {
   "cell_type": "code",
   "execution_count": 77,
   "id": "dc0926b6",
   "metadata": {},
   "outputs": [
    {
     "name": "stdout",
     "output_type": "stream",
     "text": [
      "ext\n",
      "Intercept: \n",
      " [-0.00721564]\n",
      "Coefficients: \n",
      " [[1.13107509]]\n",
      "int\n",
      "Intercept: \n",
      " [0.00701628]\n",
      "Coefficients: \n",
      " [[1.03744859]]\n",
      "neu\n",
      "Intercept: \n",
      " [-0.01365623]\n",
      "Coefficients: \n",
      " [[1.14741085]]\n",
      "som\n",
      "Intercept: \n",
      " [0.03622694]\n",
      "Coefficients: \n",
      " [[0.8003163]]\n",
      "det\n",
      "Intercept: \n",
      " [0.02096881]\n",
      "Coefficients: \n",
      " [[1.06918629]]\n"
     ]
    }
   ],
   "source": [
    "dataframe = fs_df.loc[abcd_sbj_list+snuh_sbj_list,['ext','int','neu','som','det','p']]\n",
    "for target in ['ext','int','neu','som','det']:\n",
    "    print(target)\n",
    "    y = dataframe[target].values.reshape(-1,1)\n",
    "    x = dataframe['p'].values.reshape(-1,1)\n",
    "\n",
    "    # with sklearn\n",
    "    regr = linear_model.LinearRegression()\n",
    "    regr.fit(x, y)\n",
    "\n",
    "    print('Intercept: \\n', regr.intercept_)\n",
    "    print('Coefficients: \\n', regr.coef_)\n",
    "\n",
    "    lin_result = regr.coef_\n",
    "    coef1 = lin_result[0]\n",
    "    coef1_matrix = dataframe['p'].values*coef1\n",
    "    \n",
    "    fs_adj = dataframe[target].values - coef1_matrix\n",
    "    \n",
    "    dataframe['adj_'+target] = fs_adj"
   ]
  },
  {
   "cell_type": "code",
   "execution_count": 97,
   "id": "f058e28a",
   "metadata": {},
   "outputs": [],
   "source": [
    "dataframe['data'] = 'ABCD'\n",
    "for i in dataframe.index:\n",
    "    if 'NDAR_' not in i:\n",
    "        dataframe.loc[i,'data']='SNUH'"
   ]
  },
  {
   "cell_type": "code",
   "execution_count": 84,
   "id": "cd91d40b",
   "metadata": {},
   "outputs": [],
   "source": [
    "dataframe_melt = dataframe.melt(id_vars='data')"
   ]
  },
  {
   "cell_type": "code",
   "execution_count": 86,
   "id": "d8b38b74",
   "metadata": {},
   "outputs": [
    {
     "data": {
      "image/png": "[encoded data removed]",
      "text/plain": [
       "<Figure size 1080x504 with 1 Axes>"
      ]
     },
     "metadata": {},
     "output_type": "display_data"
    }
   ],
   "source": [
    "sns.set(style='darkgrid',palette='Set3')\n",
    "plt.figure(figsize=(15,7))\n",
    "sns.boxplot(x='variable',y='value',data=dataframe_melt,hue='data')\n",
    "plt.show()\n",
    "# sns.violinplot(x='variable',y='value',data=fs_df_melt,hue='data',split=True)"
   ]
  },
  {
   "cell_type": "code",
   "execution_count": 90,
   "id": "e775093e",
   "metadata": {},
   "outputs": [
    {
     "data": {
      "text/plain": [
       "array([-0.22617674, -0.16560382,  0.23198674, ...,  0.6711841 ,\n",
       "        0.30126657, -0.01484978])"
      ]
     },
     "execution_count": 90,
     "metadata": {},
     "output_type": "execute_result"
    }
   ],
   "source": [
    "dataframe.loc[abcd_sbj_list,'adj_ext'].values"
   ]
  },
  {
   "cell_type": "code",
   "execution_count": 93,
   "id": "4f43af50",
   "metadata": {},
   "outputs": [],
   "source": [
    "np.savez(\"/data4/SNU/data/ABCD_CFA_5factor_adj.npz\",\n",
    "         adj_ext=dataframe.loc[abcd_sbj_list,'adj_ext'].values,\n",
    "         adj_int=dataframe.loc[abcd_sbj_list,'adj_int'].values,\n",
    "         adj_neu = dataframe.loc[abcd_sbj_list,'adj_neu'].values,\n",
    "         adj_som = dataframe.loc[abcd_sbj_list,'adj_som'].values,\n",
    "         adj_det= dataframe.loc[abcd_sbj_list,'adj_det'].values,\n",
    "         scn=abcd_scanner)"
   ]
  },
  {
   "cell_type": "code",
   "execution_count": 94,
   "id": "6f649b9b",
   "metadata": {},
   "outputs": [],
   "source": [
    "np.savez(\"/data4/SNU/data/SNUH_CFA_5factor_adj.npz\",\n",
    "         adj_ext=dataframe.loc[snuh_sbj_list,'adj_ext'].values,\n",
    "         adj_int=dataframe.loc[snuh_sbj_list,'adj_int'].values,\n",
    "         adj_neu = dataframe.loc[snuh_sbj_list,'adj_neu'].values,\n",
    "         adj_som = dataframe.loc[snuh_sbj_list,'adj_som'].values,\n",
    "         adj_det= dataframe.loc[snuh_sbj_list,'adj_det'].values)"
   ]
  },
  {
   "cell_type": "code",
   "execution_count": 107,
   "id": "214bba4d",
   "metadata": {},
   "outputs": [],
   "source": [
    "snuh_df = fs_df.loc[snuh_sbj_list,:]"
   ]
  },
  {
   "cell_type": "code",
   "execution_count": 112,
   "id": "04835f57",
   "metadata": {},
   "outputs": [],
   "source": [
    "for i in snuh_df.index:\n",
    "    if 'C' in i:\n",
    "        snuh_df.loc[i,\"diag\"] = 0\n",
    "    else:\n",
    "        snuh_df.loc[i,\"diag\"] = 1"
   ]
  },
  {
   "cell_type": "code",
   "execution_count": 147,
   "id": "5e233d88",
   "metadata": {},
   "outputs": [],
   "source": [
    "input_=np.array(snuh_df[['ext','int','neu','som','det']])\n",
    "target_ = snuh_df['diag']"
   ]
  },
  {
   "cell_type": "code",
   "execution_count": 179,
   "id": "2503cd52",
   "metadata": {},
   "outputs": [
    {
     "data": {
      "text/plain": [
       "((100, 5), (25, 5), (100,), (25,))"
      ]
     },
     "execution_count": 179,
     "metadata": {},
     "output_type": "execute_result"
    }
   ],
   "source": [
    "from sklearn.model_selection import train_test_split\n",
    "from sklearn.linear_model import LogisticRegression\n",
    "X_train,X_test,y_train,y_test = train_test_split(input_,target_, test_size=0.2, shuffle=True, stratify=target_)\n",
    "X_train.shape, X_test.shape, y_train.shape, y_test.shape"
   ]
  },
  {
   "cell_type": "code",
   "execution_count": 180,
   "id": "fc114883",
   "metadata": {},
   "outputs": [
    {
     "data": {
      "text/plain": [
       "0.96"
      ]
     },
     "execution_count": 180,
     "metadata": {},
     "output_type": "execute_result"
    }
   ],
   "source": [
    "clf = LogisticRegression(random_state=0).fit(X_train, y_train)\n",
    "clf.score(X_test, y_test)"
   ]
  },
  {
   "cell_type": "code",
   "execution_count": 181,
   "id": "b2f9e81d",
   "metadata": {},
   "outputs": [
    {
     "data": {
      "text/plain": [
       "array([1., 0., 0., 1., 1., 1., 0., 0., 1., 1., 1., 1., 1., 1., 0., 1., 0.,\n",
       "       0., 1., 1., 0., 1., 1., 0., 0.])"
      ]
     },
     "execution_count": 181,
     "metadata": {},
     "output_type": "execute_result"
    }
   ],
   "source": [
    "clf.predict(X_test)"
   ]
  },
  {
   "cell_type": "code",
   "execution_count": 182,
   "id": "9e250e19",
   "metadata": {},
   "outputs": [
    {
     "data": {
      "text/plain": [
       "subjectkey\n",
       "P67    1.0\n",
       "C55    0.0\n",
       "C5     0.0\n",
       "P53    1.0\n",
       "P79    1.0\n",
       "P14    1.0\n",
       "C12    0.0\n",
       "P8     1.0\n",
       "P64    1.0\n",
       "P81    1.0\n",
       "P18    1.0\n",
       "P66    1.0\n",
       "P70    1.0\n",
       "P49    1.0\n",
       "C18    0.0\n",
       "P71    1.0\n",
       "C11    0.0\n",
       "C19    0.0\n",
       "P32    1.0\n",
       "P85    1.0\n",
       "C8     0.0\n",
       "P48    1.0\n",
       "P87    1.0\n",
       "C51    0.0\n",
       "C43    0.0\n",
       "Name: diag, dtype: float64"
      ]
     },
     "execution_count": 182,
     "metadata": {},
     "output_type": "execute_result"
    }
   ],
   "source": [
    "y_test"
   ]
  },
  {
   "cell_type": "code",
   "execution_count": 183,
   "id": "8731c078",
   "metadata": {},
   "outputs": [
    {
     "data": {
      "text/plain": [
       "array([[-0.18120318,  1.43016674,  0.26146507, -0.0608018 ,  1.12090622]])"
      ]
     },
     "execution_count": 183,
     "metadata": {},
     "output_type": "execute_result"
    }
   ],
   "source": [
    "clf.coef_"
   ]
  },
  {
   "cell_type": "code",
   "execution_count": null,
   "id": "4e53e8c1",
   "metadata": {},
   "outputs": [],
   "source": []
  }
 ],
 "metadata": {
  "kernelspec": {
   "display_name": "Python 3",
   "language": "python",
   "name": "python3"
  },
  "language_info": {
   "codemirror_mode": {
    "name": "ipython",
    "version": 3
   },
   "file_extension": ".py",
   "mimetype": "text/x-python",
   "name": "python",
   "nbconvert_exporter": "python",
   "pygments_lexer": "ipython3",
   "version": "3.6.9"
  }
 },
 "nbformat": 4,
 "nbformat_minor": 5
}
